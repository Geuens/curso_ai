{
  "nbformat": 4,
  "nbformat_minor": 0,
  "metadata": {
    "colab": {
      "provenance": [],
      "authorship_tag": "ABX9TyOUT0PW3+9+QuSuoY9ECYCU",
      "include_colab_link": true
    },
    "kernelspec": {
      "name": "python3",
      "display_name": "Python 3"
    },
    "language_info": {
      "name": "python"
    }
  },
  "cells": [
    {
      "cell_type": "markdown",
      "metadata": {
        "id": "view-in-github",
        "colab_type": "text"
      },
      "source": [
        "<a href=\"https://colab.research.google.com/github/Geuens/curso_ai/blob/main/regresion_lineal_2.ipynb\" target=\"_parent\"><img src=\"https://colab.research.google.com/assets/colab-badge.svg\" alt=\"Open In Colab\"/></a>"
      ]
    },
    {
      "cell_type": "code",
      "execution_count": 1,
      "metadata": {
        "id": "ALt2YmBHKCzV",
        "outputId": "dda4271a-86fd-4580-d327-df7f15ee7e79",
        "colab": {
          "base_uri": "https://localhost:8080/"
        }
      },
      "outputs": [
        {
          "output_type": "stream",
          "name": "stdout",
          "text": [
            "R-squared Score: 0.9884826974003095\n",
            "Mean Squared Error: 1.5375598970586901\n"
          ]
        }
      ],
      "source": [
        "import numpy as np\n",
        "from sklearn.model_selection import train_test_split\n",
        "from sklearn.linear_model import LinearRegression\n",
        "from sklearn.metrics import r2_score, mean_squared_error\n",
        "\n",
        "# Given data\n",
        "height = np.array([120, 122, 124, 125, 127, 129, 130, 133, 134, 136, 138, 139, 141, 142, 143, 150, 151, 153, 156, 157, 159, 160, 162, 164, 165, 167, 170, 172, 174, 175, 176, 177, 178, 180, 181, 183, 184, 185])\n",
        "weight = np.array([45, 45, 47, 46, 47, 48, 50, 52, 51, 54, 55, 56, 58, 59, 58, 60, 61, 62, 64, 65, 65, 67, 68, 69, 69, 69, 70, 72, 73, 73, 75, 76, 77, 76, 77, 78, 79, 80])\n",
        "\n",
        "# Combine height and weight into a 2D array\n",
        "data = np.column_stack((height, weight))\n",
        "\n",
        "# Split the data into training and testing sets\n",
        "train_data, test_data, train_target, test_target = train_test_split(data[:, 0], data[:, 1], test_size=0.2, random_state=42)\n",
        "\n",
        "# Reshape the arrays for compatibility with scikit-learn\n",
        "train_data = train_data.reshape(-1, 1)\n",
        "test_data = test_data.reshape(-1, 1)\n",
        "\n",
        "# Create a linear regression model\n",
        "model = LinearRegression()\n",
        "\n",
        "# Fit the model on the training data\n",
        "model.fit(train_data, train_target)\n",
        "\n",
        "# Predict the target values for the test data\n",
        "predictions = model.predict(test_data)\n",
        "\n",
        "# Evaluate the model\n",
        "r2 = r2_score(test_target, predictions)\n",
        "mse = mean_squared_error(test_target, predictions)\n",
        "\n",
        "print(f'R-squared Score: {r2}')\n",
        "print(f'Mean Squared Error: {mse}')\n"
      ]
    }
  ]
}