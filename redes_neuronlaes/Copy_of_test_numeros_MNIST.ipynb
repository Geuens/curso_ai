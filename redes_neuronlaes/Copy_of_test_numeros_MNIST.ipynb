{
  "nbformat": 4,
  "nbformat_minor": 0,
  "metadata": {
    "colab": {
      "provenance": [],
      "include_colab_link": true
    },
    "kernelspec": {
      "name": "python3",
      "display_name": "Python 3"
    },
    "language_info": {
      "name": "python"
    }
  },
  "cells": [
    {
      "cell_type": "markdown",
      "metadata": {
        "id": "view-in-github",
        "colab_type": "text"
      },
      "source": [
        "<a href=\"https://colab.research.google.com/github/Geuens/curso_ai/blob/main/Copy_of_test_numeros_MNIST.ipynb\" target=\"_parent\"><img src=\"https://colab.research.google.com/assets/colab-badge.svg\" alt=\"Open In Colab\"/></a>"
      ]
    },
    {
      "cell_type": "code",
      "execution_count": null,
      "metadata": {
        "colab": {
          "base_uri": "https://localhost:8080/"
        },
        "id": "B9cXkQkWtC-2",
        "outputId": "df1c4dd7-dc66-4b51-9f87-dd1029245f7d"
      },
      "outputs": [
        {
          "output_type": "stream",
          "name": "stdout",
          "text": [
            "torch.Size([1, 1, 28, 28])\n",
            "El modelo predice que el dígito es: 7\n",
            "torch.Size([1, 1, 28, 28])\n",
            "El modelo predice que el dígito es: 6\n",
            "torch.Size([1, 1, 28, 28])\n",
            "El modelo predice que el dígito es: 9\n",
            "torch.Size([1, 1, 28, 28])\n",
            "El modelo predice que el dígito es: 3\n",
            "torch.Size([1, 1, 28, 28])\n",
            "El modelo predice que el dígito es: 1\n",
            "torch.Size([1, 1, 28, 28])\n",
            "El modelo predice que el dígito es: 5\n"
          ]
        }
      ],
      "source": [
        "import torch\n",
        "import torchvision\n",
        "import torchvision.transforms as transforms\n",
        "from PIL import Image\n",
        "import os\n",
        "import torch.optim as optim\n",
        "import torch.nn as nn\n",
        "import torch.nn.functional as F\n",
        "\n",
        "class SimpleNet(nn.Module):\n",
        "    def __init__(self):\n",
        "        super(SimpleNet, self).__init__()\n",
        "        self.fc1 = nn.Linear(28 * 28, 64)  # 28*28 from image dimension\n",
        "        self.fc2 = nn.Linear(64, 10)\n",
        "\n",
        "    def forward(self, x):\n",
        "        x = x.view(-1, 28 * 28)  # Flatten the image\n",
        "        x = F.relu(self.fc1(x))\n",
        "        x = self.fc2(x)\n",
        "        return x\n",
        "\n",
        "\n",
        "# Vamos a usar torchvision para \"leer\" o predecir los números escritos a mano en el directorio raíz data\\img_6.jpg, data\\img_65.jpg, data\\img_83.jpg\n",
        "# Carga del modelo\n",
        "model = SimpleNet()\n",
        "model.load_state_dict(torch.load('drive/MyDrive/Colab Notebooks/data/modelo_mnist.pth'))\n",
        "model.eval()  # Importante para decirle al modelo que ahora está en modo de evaluación\n",
        "\n",
        "images = []\n",
        "for root, dirs, files in os.walk('drive/MyDrive/Colab Notebooks/data/MNIST_prueba'):\n",
        "    for file in files:\n",
        "        base, extension = os.path.splitext(file)\n",
        "        if (extension.lower() == '.jpg'):\n",
        "           full_path = os.path.join(root, file)\n",
        "           images.append(full_path)\n",
        "\n",
        "def predict(image):\n",
        "    # Definimos las transformaciones que se deben aplicar a la imagen para que coincida con el formato MNIST\n",
        "    transformations = transforms.Compose([\n",
        "        transforms.Grayscale(num_output_channels=1),\n",
        "        transforms.Resize((28, 28)),\n",
        "        transforms.ToTensor(),\n",
        "        transforms.Normalize((0.5,), (0.5,))\n",
        "    ])\n",
        "\n",
        "    # Aplicamos las transformaciones a la imagen\n",
        "    img_transformed = transformations(image)\n",
        "\n",
        "    # Convertimos la imagen para que tenga una dimensión de lote (que PyTorch espera)\n",
        "    img_batch = img_transformed.unsqueeze(0)  # Agrega un batch dimension en la posición 0\n",
        "\n",
        "    # Verificamos las dimensiones de la imagen resultante\n",
        "    print(img_batch.shape)\n",
        "\n",
        "    # Hacer la predicción\n",
        "    with torch.no_grad():  # No necesitamos seguir el rastro de los gradientes\n",
        "        outputs = model(img_batch)\n",
        "        _, predicted = torch.max(outputs, 1)\n",
        "\n",
        "    # El resultado 'predicted' es el índice del dígito que el modelo predice\n",
        "    print(f'El modelo predice que el dígito es: {predicted.item()}')\n",
        "\n",
        "for image_path in images:\n",
        "    image = Image.open(image_path)\n",
        "    predict(image)"
      ]
    }
  ]
}