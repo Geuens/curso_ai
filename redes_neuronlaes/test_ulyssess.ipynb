{
  "nbformat": 4,
  "nbformat_minor": 0,
  "metadata": {
    "colab": {
      "provenance": [],
      "include_colab_link": true
    },
    "kernelspec": {
      "name": "python3",
      "display_name": "Python 3"
    },
    "language_info": {
      "name": "python"
    }
  },
  "cells": [
    {
      "cell_type": "markdown",
      "metadata": {
        "id": "view-in-github",
        "colab_type": "text"
      },
      "source": [
        "<a href=\"https://colab.research.google.com/github/Geuens/curso_ai/blob/main/test_ulyssess.ipynb\" target=\"_parent\"><img src=\"https://colab.research.google.com/assets/colab-badge.svg\" alt=\"Open In Colab\"/></a>"
      ]
    },
    {
      "cell_type": "code",
      "execution_count": null,
      "metadata": {
        "colab": {
          "base_uri": "https://localhost:8080/"
        },
        "id": "uaTxiZ_U5mv6",
        "outputId": "883360ee-b7af-48a5-c0da-0f8781443e42"
      },
      "outputs": [
        {
          "output_type": "stream",
          "name": "stdout",
          "text": [
            "e earth garlic of course it stinks after italian on just.)_ lutter how her throw itselted\n",
            "gird sprandly said of a moosed hand alus in its in sumple, seasana timent afto from their\n",
            "light thi is forn. i\n",
            "---------------------------\n",
            " heaving\n",
            "embon) red rose rose slowly sank red rose the light and street and the selfers and the word\n",
            "---------------------------\n",
            " is it? loud boots unmannerly asked.\n",
            "\n",
            "—find out, must a course the said and the see in the the the c\n"
          ]
        }
      ],
      "source": [
        "import numpy as np\n",
        "import tensorflow as tf\n",
        "\n",
        "# Paso 1: Obtener y preprocesar el texto\n",
        "\n",
        "path = \"pg4300.txt\"\n",
        "with open(path) as f:\n",
        "    text = f.read()\n",
        "\n",
        "# Preprocesar texto (simplificado, considerar limpiar encabezados y pies de página del sitio)\n",
        "text = text.lower()  # Convertir a minúsculas\n",
        "# Crear secuencias de caracteres y sus próximos caracteres\n",
        "maxlen = 50\n",
        "step = 5\n",
        "\n",
        "# Crear una lista de los caracteres únicos en el texto\n",
        "chars = sorted(list(set(text)))\n",
        "\n",
        "# Crear un diccionario que mapee cada carácter a un número entero único\n",
        "char_to_int = dict((c, i) for i, c in enumerate(chars))\n",
        "\n",
        "def sample(preds, temperature=1.0):\n",
        "    \"\"\"Función de muestreo que incorpora la diversidad.\"\"\"\n",
        "    preds = np.asarray(preds).astype('float64')\n",
        "    preds = np.log(preds) / temperature\n",
        "    exp_preds = np.exp(preds)\n",
        "    preds = exp_preds / np.sum(exp_preds)\n",
        "    probas = np.random.multinomial(1, preds, 1)\n",
        "    return np.argmax(probas)\n",
        "\n",
        "def generate_text(length, diversity=1.0):\n",
        "    start_index = np.random.randint(0, len(text) - maxlen - 1)\n",
        "    generated = ''\n",
        "    sentence = text[start_index: start_index + maxlen]\n",
        "    generated += sentence\n",
        "\n",
        "    for _ in range(length):\n",
        "        x_pred = np.zeros((1, maxlen, len(chars)))\n",
        "        for t, char in enumerate(sentence):\n",
        "            x_pred[0, t, char_to_int[char]] = 1.\n",
        "\n",
        "        preds = model.predict(x_pred, verbose=0)[0]\n",
        "        next_index = sample(preds, diversity)\n",
        "        next_char = chars[next_index]\n",
        "\n",
        "        generated += next_char\n",
        "        sentence = sentence[1:] + next_char\n",
        "\n",
        "    return generated\n",
        "\n",
        "model = tf.keras.models.load_model('ulisses_0.2.keras')\n",
        "\n",
        "print(generate_text(150, 1.0))\n",
        "print('---------------------------')\n",
        "print(generate_text(50, 0.5))\n",
        "print('---------------------------')\n",
        "print(generate_text(50, 0.2))"
      ]
    }
  ]
}