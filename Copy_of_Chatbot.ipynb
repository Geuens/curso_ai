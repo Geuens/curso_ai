{
  "cells": [
    {
      "cell_type": "markdown",
      "metadata": {
        "id": "view-in-github",
        "colab_type": "text"
      },
      "source": [
        "<a href=\"https://colab.research.google.com/github/Geuens/curso_ai/blob/main/Copy_of_Chatbot.ipynb\" target=\"_parent\"><img src=\"https://colab.research.google.com/assets/colab-badge.svg\" alt=\"Open In Colab\"/></a>"
      ]
    },
    {
      "cell_type": "code",
      "execution_count": null,
      "id": "36b7543d",
      "metadata": {
        "id": "36b7543d",
        "outputId": "56dc29d2-d98b-4eaf-c9f3-8b44a3af374b",
        "colab": {
          "base_uri": "https://localhost:8080/",
          "height": 390
        }
      },
      "outputs": [
        {
          "output_type": "error",
          "ename": "ModuleNotFoundError",
          "evalue": "No module named 'dotenv'",
          "traceback": [
            "\u001b[0;31m---------------------------------------------------------------------------\u001b[0m",
            "\u001b[0;31mModuleNotFoundError\u001b[0m                       Traceback (most recent call last)",
            "\u001b[0;32m<ipython-input-1-3d43edf8c054>\u001b[0m in \u001b[0;36m<cell line: 1>\u001b[0;34m()\u001b[0m\n\u001b[0;32m----> 1\u001b[0;31m \u001b[0;32mfrom\u001b[0m \u001b[0mdotenv\u001b[0m \u001b[0;32mimport\u001b[0m \u001b[0mload_dotenv\u001b[0m\u001b[0;34m\u001b[0m\u001b[0;34m\u001b[0m\u001b[0m\n\u001b[0m\u001b[1;32m      2\u001b[0m \u001b[0;32mimport\u001b[0m \u001b[0mos\u001b[0m\u001b[0;34m\u001b[0m\u001b[0;34m\u001b[0m\u001b[0m\n\u001b[1;32m      3\u001b[0m \u001b[0;34m\u001b[0m\u001b[0m\n\u001b[1;32m      4\u001b[0m \u001b[0;31m# Cargar variables de entorno\u001b[0m\u001b[0;34m\u001b[0m\u001b[0;34m\u001b[0m\u001b[0m\n\u001b[1;32m      5\u001b[0m \u001b[0mload_dotenv\u001b[0m\u001b[0;34m(\u001b[0m\u001b[0;34m)\u001b[0m\u001b[0;34m\u001b[0m\u001b[0;34m\u001b[0m\u001b[0m\n",
            "\u001b[0;31mModuleNotFoundError\u001b[0m: No module named 'dotenv'",
            "",
            "\u001b[0;31m---------------------------------------------------------------------------\u001b[0;32m\nNOTE: If your import is failing due to a missing package, you can\nmanually install dependencies using either !pip or !apt.\n\nTo view examples of installing some common dependencies, click the\n\"Open Examples\" button below.\n\u001b[0;31m---------------------------------------------------------------------------\u001b[0m\n"
          ],
          "errorDetails": {
            "actions": [
              {
                "action": "open_url",
                "actionText": "Open Examples",
                "url": "/notebooks/snippets/importing_libraries.ipynb"
              }
            ]
          }
        }
      ],
      "source": [
        "from dotenv import load_dotenv\n",
        "import os\n",
        "\n",
        "# Cargar variables de entorno\n",
        "load_dotenv()\n",
        "\n",
        "from openai import OpenAI\n",
        "\n",
        "\n",
        "# Configurar el motor de OpenAI\n",
        "engine = \"gpt-3.5-turbo\"\n",
        "client = OpenAI(api_key=os.getenv(\"OPENAI_API_KEY\"))\n",
        "\n",
        "def get_completion(prompt, temperature=0):\n",
        "    messages = [{\"role\": \"user\", \"content\": prompt}]\n",
        "    response = client.chat.completions.create(\n",
        "        model=engine,\n",
        "        messages=messages,\n",
        "        temperature=temperature, # grado de creatividad del modelo\n",
        "    )\n",
        "    return response.choices[0].message.content\n",
        "\n",
        "def get_completion_from_messages(messages, model=\"gpt-3.5-turbo\", temperature=0):\n",
        "    response = client.chat.completions.create(\n",
        "        model=model,\n",
        "        messages=messages,\n",
        "        temperature=temperature, # grado de creatividad del modelo\n",
        "    )\n",
        "#     print(str(response.choices[0].message))\n",
        "    return response.choices[0].message.content"
      ]
    },
    {
      "cell_type": "markdown",
      "id": "7493fa83",
      "metadata": {
        "id": "7493fa83"
      },
      "source": [
        "## Hilo de la conversación\n",
        "ChatGPT mantiene un registro de cada hilo de la conversación, de tal manera que podemos referirnos a datos que le hemos proporcionado anteriormente. Si cambiamos el hilo, necesitaríamos pasarle de nuevo todos los datos. Así es como funciona:"
      ]
    },
    {
      "cell_type": "code",
      "execution_count": null,
      "id": "91bfe80d",
      "metadata": {
        "id": "91bfe80d"
      },
      "outputs": [],
      "source": [
        "messages =  [\n",
        "{'role':'system', 'content':'Eres un famoso cómico.'},\n",
        "{'role':'user', 'content':'Cuéntame un chiste'},\n",
        "{'role':'assistant', 'content':'¿Cómo se mide la masa de seguidores de un influencer?'},\n",
        "{'role':'user', 'content':'Ni idea'}  ]"
      ]
    },
    {
      "cell_type": "code",
      "execution_count": null,
      "id": "baeefc47",
      "metadata": {
        "id": "baeefc47"
      },
      "outputs": [],
      "source": [
        "response = get_completion_from_messages(messages, temperature=1)\n",
        "print(response)"
      ]
    },
    {
      "cell_type": "code",
      "execution_count": null,
      "id": "3b08e0d8",
      "metadata": {
        "id": "3b08e0d8"
      },
      "outputs": [],
      "source": [
        "messages =  [\n",
        "{'role':'system', 'content':'Eres un bot amigable.'},\n",
        "{'role':'user', 'content':'Hola, me llamo Carlos'}  ]\n",
        "response = get_completion_from_messages(messages, temperature=1)\n",
        "print(response)"
      ]
    },
    {
      "cell_type": "markdown",
      "id": "6b76b5be",
      "metadata": {
        "id": "6b76b5be"
      },
      "source": [
        "### este hilo es distinto del anterior"
      ]
    },
    {
      "cell_type": "code",
      "execution_count": null,
      "id": "51e8aec8",
      "metadata": {
        "id": "51e8aec8"
      },
      "outputs": [],
      "source": [
        "messages =  [\n",
        "{'role':'system', 'content':'Eres un bot simpático.'},\n",
        "{'role':'user', 'content':'¿Cómo me llamo?'}  ]\n",
        "response = get_completion_from_messages(messages, temperature=1)\n",
        "print(response)"
      ]
    },
    {
      "cell_type": "markdown",
      "id": "960d5cb8",
      "metadata": {
        "id": "960d5cb8"
      },
      "source": [
        "### Tratándose del mismo hilo funcionará, ya que le estamos enviando todas la inforamción necesaria"
      ]
    },
    {
      "cell_type": "code",
      "execution_count": null,
      "id": "6ed7bf1a",
      "metadata": {
        "id": "6ed7bf1a"
      },
      "outputs": [],
      "source": [
        "messages =  [\n",
        "{'role':'system', 'content':'Eres un bot amigable.'},\n",
        "{'role':'user', 'content':'Hola, me llamo Carlos'},\n",
        "{'role':'assistant', 'content': \"¡Hola Carlos! Mucho gusto en conocerte. ¿En qué puedo ayudarte hoy?\"},\n",
        "{'role':'user', 'content':'Si, ¿Cómo me llamo?'}  ]\n",
        "response = get_completion_from_messages(messages, temperature=1)\n",
        "print(response)"
      ]
    },
    {
      "cell_type": "markdown",
      "id": "4acc8c08",
      "metadata": {
        "id": "4acc8c08"
      },
      "source": [
        "## Podemos establecer y mantener un contexto"
      ]
    },
    {
      "cell_type": "code",
      "execution_count": null,
      "id": "0bc7ccdc",
      "metadata": {
        "id": "0bc7ccdc"
      },
      "outputs": [],
      "source": [
        "def collect_messages(_):\n",
        "    prompt = inp.value_input\n",
        "    inp.value = ''\n",
        "    context.append({'role':'user', 'content':f\"{prompt}\"})\n",
        "    response = get_completion_from_messages(context)\n",
        "    context.append({'role':'assistant', 'content':f\"{response}\"})\n",
        "    panels.append(\n",
        "        pn.Row('User:', pn.pane.Markdown(prompt, width=600)))\n",
        "    panels.append(\n",
        "        pn.Row('Assistant:', pn.pane.Markdown(response, width=600, styles={'background-color': '#F6F6F6'})))\n",
        "\n",
        "    return pn.Column(*panels)"
      ]
    },
    {
      "cell_type": "markdown",
      "id": "23273c0c",
      "metadata": {
        "id": "23273c0c"
      },
      "source": [
        "### Damos instrucciones de contexto detalladas para que se comporte como queremos.\n",
        "Es importante ser especifico/a. Por ejemplo prueba a sustituir la frase:\n",
        "\"en función de sus conocimientos le planteas uno o varios cursos del catálogo\"\n",
        "por:\n",
        "\"función de sus conocimientos le planteas unitinerario formativo\"\n",
        "\n",
        "Al no ser especificos ciñéndonos al catálogo, verás que se \"inventa\" (hallucination) un itinerario com sugerencia."
      ]
    },
    {
      "cell_type": "code",
      "execution_count": null,
      "id": "fe3ef64e",
      "metadata": {
        "id": "fe3ef64e"
      },
      "outputs": [],
      "source": [
        "import panel as pn  # GUI\n",
        "pn.extension()\n",
        "\n",
        "panels = [] # collect display\n",
        "\n",
        "context = [ {'role':'system', 'content':\"\"\"\n",
        "Eres un servicio que ofrece sugerencias de cursos de formación técnicos. \\\n",
        "Primero saludas al cliente, recolectas sus intereses, y en\n",
        "función de sus conocimientos le planteas uno o varios cursos del catálogo \\\n",
        "basado en los cursos disponibles en el catálogo.\n",
        "Preguntas al cliente cuándo desearía recibir el curso. \\\n",
        "Finalmente le informas de todos los detalles del curso.\\\n",
        "Asegúrate de clarificar la opciones disponibles y contenidos \\\n",
        "Identifica el curso del catálogo, área de interés e itinerario del catálogo.\\\n",
        "Respondes de maneta concisa, educada y amigable. \\\n",
        "Si el curso no aparece en el catálogo discúlpate y ofrece una alternativa \\\n",
        "El catálogo incluye \\\n",
        "Áreas: Python, AI, Seguridad y Java\n",
        "Título: Fundamentos de Python, Requisitos: Nociones de programación, Duración: 30 horas, Precio: 700 EUR, Áreas: Python \\\n",
        "Título: Python Avanzado, Requisitos: Fundamentos de Python, Duración: 40 horas, Precio: 1500 EUR, Áreas: Python \\\n",
        "Título: Machine Learning con Python, Requisitos: Python Avanzado, Duración: 40 horas, Precio: 2500 EUR, Áreas: Python, AI \\\n",
        "Título: AI con Python, Requisitos: Machine Learning con Python, Duración: 60 horas, Precio: 3500 EUR, Áreas: Python, AI \\\n",
        "Título: Seguridad con Python, Requisitos; Python AVanzado, Duración: 30 horas, Precio: 1500 EUR, Áreas: Seguridad \\\n",
        "Título: Fundamentos de Java, Requisitos: Nociones de programación, Duración: 30 horas, Precio: 700 EUR, Áreas: Java \\\n",
        "Título: Java Avanzado, Requisitos: Fundamentos de Python, Duración: 40 horas, Precio: 1500 EUR  Áreas: Java  \\\n",
        "\"\"\"} ]  # accumulate messages\n",
        "\n",
        "\n",
        "inp = pn.widgets.TextInput(value=\"Hola\", placeholder='Introduce el texto…')\n",
        "button_conversation = pn.widgets.Button(name=\"Chat!\")\n",
        "\n",
        "interactive_conversation = pn.bind(collect_messages, button_conversation)\n",
        "\n",
        "dashboard = pn.Column(\n",
        "    inp,\n",
        "    pn.Row(button_conversation),\n",
        "    pn.panel(interactive_conversation, loading_indicator=True, height=300),\n",
        ")\n",
        "\n",
        "dashboard"
      ]
    }
  ],
  "metadata": {
    "kernelspec": {
      "display_name": "Python 3 (ipykernel)",
      "language": "python",
      "name": "python3"
    },
    "language_info": {
      "codemirror_mode": {
        "name": "ipython",
        "version": 3
      },
      "file_extension": ".py",
      "mimetype": "text/x-python",
      "name": "python",
      "nbconvert_exporter": "python",
      "pygments_lexer": "ipython3",
      "version": "3.10.8"
    },
    "colab": {
      "provenance": [],
      "include_colab_link": true
    }
  },
  "nbformat": 4,
  "nbformat_minor": 5
}