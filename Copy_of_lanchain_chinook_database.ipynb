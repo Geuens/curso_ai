{
  "nbformat": 4,
  "nbformat_minor": 0,
  "metadata": {
    "colab": {
      "provenance": [],
      "include_colab_link": true
    },
    "kernelspec": {
      "name": "python3",
      "display_name": "Python 3"
    },
    "language_info": {
      "name": "python"
    }
  },
  "cells": [
    {
      "cell_type": "markdown",
      "metadata": {
        "id": "view-in-github",
        "colab_type": "text"
      },
      "source": [
        "<a href=\"https://colab.research.google.com/github/Geuens/curso_ai/blob/main/Copy_of_lanchain_chinook_database.ipynb\" target=\"_parent\"><img src=\"https://colab.research.google.com/assets/colab-badge.svg\" alt=\"Open In Colab\"/></a>"
      ]
    },
    {
      "cell_type": "code",
      "execution_count": null,
      "metadata": {
        "colab": {
          "base_uri": "https://localhost:8080/",
          "height": 35
        },
        "id": "BM3y2Tsxaqbz",
        "outputId": "af90db65-207c-42fd-ef9d-40dd6a2d3986"
      },
      "outputs": [
        {
          "output_type": "execute_result",
          "data": {
            "text/plain": [
              "'SQLQuery: \\nSELECT c.country, SUM(i.total) AS total_sales\\nFROM customer c\\nJOIN invoice i ON c.customer_id = i.customer_id\\nGROUP BY c.country\\nORDER BY total_sales DESC\\nLIMIT 1\\n'"
            ],
            "application/vnd.google.colaboratory.intrinsic+json": {
              "type": "string"
            }
          },
          "metadata": {},
          "execution_count": 6
        }
      ],
      "source": [
        "#!pip install langchain langchainhub langchain_openai openai\n",
        "from langchain.utilities import SQLDatabase\n",
        "from langchain_openai import ChatOpenAI\n",
        "from langchain.schema.output_parser import StrOutputParser\n",
        "from langchain import hub\n",
        "from google.colab import userdata\n",
        "\n",
        "secret_string = userdata.get('OPENAI_TOKEN')\n",
        "\n",
        "# Inicializamos db\n",
        "db = SQLDatabase.from_uri(\"sqlite:///chinook.db\")\n",
        "# Pull down prompt\n",
        "prompt = hub.pull(\"rlm/text-to-sql\")\n",
        "# Initialize model\n",
        "model = ChatOpenAI(openai_api_key=secret_string)\n",
        "\n",
        "# Crear chain con LangChain Expression Language\n",
        "inputs = {\n",
        "    \"table_info\": lambda x: db.get_table_info(),\n",
        "    \"input\": lambda x: x[\"question\"],\n",
        "    \"few_shot_examples\": lambda x: \"\",\n",
        "    \"dialect\": lambda x: db.dialect,\n",
        "}\n",
        "sql_response = (\n",
        "    inputs\n",
        "    | prompt\n",
        "    | model.bind(stop=[\"\\nSQLResult:\"])\n",
        "    | StrOutputParser()\n",
        ")\n",
        "\n",
        "# Call with a given question\n",
        "sql_response.invoke({\"question\": \"Enumera las ventas totales por país. ¿Los clientes de qué país gastaron más?\"})"
      ]
    }
  ]
}