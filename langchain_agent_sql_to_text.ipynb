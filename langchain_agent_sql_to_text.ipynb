{
  "nbformat": 4,
  "nbformat_minor": 0,
  "metadata": {
    "colab": {
      "provenance": [],
      "include_colab_link": true
    },
    "kernelspec": {
      "name": "python3",
      "display_name": "Python 3"
    },
    "language_info": {
      "name": "python"
    }
  },
  "cells": [
    {
      "cell_type": "markdown",
      "metadata": {
        "id": "view-in-github",
        "colab_type": "text"
      },
      "source": [
        "<a href=\"https://colab.research.google.com/github/Geuens/curso_ai/blob/main/langchain_agent_sql_to_text.ipynb\" target=\"_parent\"><img src=\"https://colab.research.google.com/assets/colab-badge.svg\" alt=\"Open In Colab\"/></a>"
      ]
    },
    {
      "cell_type": "code",
      "execution_count": null,
      "metadata": {
        "colab": {
          "base_uri": "https://localhost:8080/"
        },
        "id": "KI_QlYv0b9T0",
        "outputId": "467eaa8d-3961-4d05-fda5-3344924552d9"
      },
      "outputs": [
        {
          "output_type": "stream",
          "name": "stdout",
          "text": [
            "\n",
            "\n",
            "\u001b[1m> Entering new AgentExecutor chain...\u001b[0m\n",
            "\u001b[32;1m\u001b[1;3m\n",
            "Invoking: `sql_db_list_tables` with ``\n",
            "\n",
            "\n",
            "\u001b[0m\u001b[38;5;200m\u001b[1;3malbum, artist, customer, employee, genre, invoice, invoice_line, media_type, playlist, playlist_track, track\u001b[0m\u001b[32;1m\u001b[1;3m\n",
            "Invoking: `sql_db_schema` with `{'table_names': 'customer, invoice'}`\n",
            "responded: The relevant tables for this query seem to be 'customer' and 'invoice'. Let's check their schemas.\n",
            "\n",
            "\u001b[0m\u001b[33;1m\u001b[1;3m\n",
            "CREATE TABLE customer (\n",
            "\tcustomer_id INTEGER NOT NULL, \n",
            "\tfirst_name NVARCHAR(40) NOT NULL, \n",
            "\tlast_name NVARCHAR(20) NOT NULL, \n",
            "\tcompany NVARCHAR(80), \n",
            "\taddress NVARCHAR(70), \n",
            "\tcity NVARCHAR(40), \n",
            "\tstate NVARCHAR(40), \n",
            "\tcountry NVARCHAR(40), \n",
            "\tpostal_code NVARCHAR(10), \n",
            "\tphone NVARCHAR(24), \n",
            "\tfax NVARCHAR(24), \n",
            "\temail NVARCHAR(60) NOT NULL, \n",
            "\tsupport_rep_id INTEGER, \n",
            "\tPRIMARY KEY (customer_id), \n",
            "\tFOREIGN KEY(support_rep_id) REFERENCES employee (employee_id)\n",
            ")\n",
            "\n",
            "/*\n",
            "3 rows from customer table:\n",
            "customer_id\tfirst_name\tlast_name\tcompany\taddress\tcity\tstate\tcountry\tpostal_code\tphone\tfax\temail\tsupport_rep_id\n",
            "1\tLuís\tGonçalves\tEmbraer - Empresa Brasileira de Aeronáutica S.A.\tAv. Brigadeiro Faria Lima, 2170\tSão José dos Campos\tSP\tBrazil\t12227-000\t+55 (12) 3923-5555\t+55 (12) 3923-5566\tluisg@embraer.com.br\t3\n",
            "2\tLeonie\tKöhler\tNone\tTheodor-Heuss-Straße 34\tStuttgart\tNone\tGermany\t70174\t+49 0711 2842222\tNone\tleonekohler@surfeu.de\t5\n",
            "3\tFrançois\tTremblay\tNone\t1498 rue Bélanger\tMontréal\tQC\tCanada\tH2G 1A7\t+1 (514) 721-4711\tNone\tftremblay@gmail.com\t3\n",
            "*/\n",
            "\n",
            "\n",
            "CREATE TABLE invoice (\n",
            "\tinvoice_id INTEGER NOT NULL, \n",
            "\tcustomer_id INTEGER NOT NULL, \n",
            "\tinvoice_date DATETIME NOT NULL, \n",
            "\tbilling_address NVARCHAR(70), \n",
            "\tbilling_city NVARCHAR(40), \n",
            "\tbilling_state NVARCHAR(40), \n",
            "\tbilling_country NVARCHAR(40), \n",
            "\tbilling_postal_code NVARCHAR(10), \n",
            "\ttotal NUMERIC(10, 2) NOT NULL, \n",
            "\tPRIMARY KEY (invoice_id), \n",
            "\tFOREIGN KEY(customer_id) REFERENCES customer (customer_id)\n",
            ")\n",
            "\n",
            "/*\n",
            "3 rows from invoice table:\n",
            "invoice_id\tcustomer_id\tinvoice_date\tbilling_address\tbilling_city\tbilling_state\tbilling_country\tbilling_postal_code\ttotal\n",
            "1\t18\t2017-01-03 00:00:00\t627 Broadway\tNew York\tNY\tUSA\t10012-2612\t15.84\n",
            "2\t30\t2017-01-03 00:00:00\t230 Elgin Street\tOttawa\tON\tCanada\tK2P 1L7\t9.90\n",
            "3\t40\t2017-01-05 00:00:00\t8, Rue Hanovre\tParis\tNone\tFrance\t75002\t1.98\n",
            "*/\u001b[0m\u001b[32;1m\u001b[1;3m\n",
            "Invoking: `sql_db_query_checker` with `SELECT strftime('%Y', invoice_date) as Year, strftime('%m', invoice_date) as Month, SUM(total) as Total FROM invoice JOIN customer ON invoice.customer_id = customer.customer_id WHERE customer.country = 'Spain' GROUP BY Year, (Month-1)/3`\n",
            "responded: The 'customer' table has a 'country' column and the 'invoice' table has a 'total' and 'invoice_date' column. I can join these tables on 'customer_id' to get the total invoice amount for customers from Spain. I will group the results by quarter of the 'invoice_date'. Let's write the query.\n",
            "\n",
            "\u001b[0m\u001b[36;1m\u001b[1;3mSELECT strftime('%Y', invoice_date) as Year, strftime('%m', invoice_date) as Month, SUM(total) as Total \n",
            "FROM invoice \n",
            "JOIN customer ON invoice.customer_id = customer.customer_id \n",
            "WHERE customer.country = 'Spain' \n",
            "GROUP BY Year, (Month-1)/3\u001b[0m\u001b[32;1m\u001b[1;3m\n",
            "Invoking: `sql_db_query` with `SELECT strftime('%Y', invoice_date) as Year, strftime('%m', invoice_date) as Month, SUM(total) as Total FROM invoice JOIN customer ON invoice.customer_id = customer.customer_id WHERE customer.country = 'Spain' GROUP BY Year, (Month-1)/3`\n",
            "\n",
            "\n",
            "\u001b[0m\u001b[36;1m\u001b[1;3m[('2017', '03', 7.92), ('2017', '09', 8.91), ('2018', '10', 13.86), ('2019', '02', 9.9), ('2019', '04', 19.8), ('2019', '07', 11.88), ('2019', '12', 1.98), ('2020', '05', 23.759999999999998)]\u001b[0m\u001b[32;1m\u001b[1;3mEl gasto por trimestre de los clientes españoles es el siguiente:\n",
            "\n",
            "- Primer trimestre de 2017: 7.92\n",
            "- Tercer trimestre de 2017: 8.91\n",
            "- Cuarto trimestre de 2018: 13.86\n",
            "- Primer trimestre de 2019: 9.9\n",
            "- Segundo trimestre de 2019: 19.8\n",
            "- Tercer trimestre de 2019: 11.88\n",
            "- Cuarto trimestre de 2019: 1.98\n",
            "- Segundo trimestre de 2020: 23.76\n",
            "\n",
            "Por favor, ten en cuenta que estos valores están en la moneda predeterminada de la base de datos.\u001b[0m\n",
            "\n",
            "\u001b[1m> Finished chain.\u001b[0m\n",
            "El gasto por trimestre de los clientes españoles es el siguiente:\n",
            "\n",
            "- Primer trimestre de 2017: 7.92\n",
            "- Tercer trimestre de 2017: 8.91\n",
            "- Cuarto trimestre de 2018: 13.86\n",
            "- Primer trimestre de 2019: 9.9\n",
            "- Segundo trimestre de 2019: 19.8\n",
            "- Tercer trimestre de 2019: 11.88\n",
            "- Cuarto trimestre de 2019: 1.98\n",
            "- Segundo trimestre de 2020: 23.76\n",
            "\n",
            "Por favor, ten en cuenta que estos valores están en la moneda predeterminada de la base de datos.\n"
          ]
        }
      ],
      "source": [
        "#!pip install langchain langchainhub langchain_openai openai\n",
        "from langchain.sql_database import SQLDatabase\n",
        "from langchain_openai import ChatOpenAI\n",
        "from langchain.schema.output_parser import StrOutputParser\n",
        "from langchain import hub\n",
        "from google.colab import userdata\n",
        "from langchain_community.agent_toolkits import create_sql_agent\n",
        "from langchain_openai import ChatOpenAI\n",
        "\n",
        "secret_string = userdata.get('OPENAI_TOKEN')\n",
        "\n",
        "# Inicializamos db\n",
        "db = SQLDatabase.from_uri(\"sqlite:///chinook.db\")\n",
        "\n",
        "llm = ChatOpenAI(openai_api_key=secret_string, model=\"gpt-4\", temperature=0)\n",
        "\n",
        "agent_executor = create_sql_agent(llm, db=db, agent_type=\"openai-tools\", verbose=True)\n",
        "resultado = agent_executor.invoke(\n",
        "    \"Dime cual es el gasto por trimestre de los clientes españoles. Dame tu respuesta en castellano\"\n",
        ")\n",
        "print(resultado.get('output'))"
      ]
    }
  ]
}