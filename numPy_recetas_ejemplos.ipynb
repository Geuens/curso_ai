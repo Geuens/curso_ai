{
  "nbformat": 4,
  "nbformat_minor": 0,
  "metadata": {
    "colab": {
      "provenance": [],
      "include_colab_link": true
    },
    "kernelspec": {
      "name": "python3",
      "display_name": "Python 3"
    },
    "language_info": {
      "name": "python"
    }
  },
  "cells": [
    {
      "cell_type": "markdown",
      "metadata": {
        "id": "view-in-github",
        "colab_type": "text"
      },
      "source": [
        "<a href=\"https://colab.research.google.com/github/Geuens/curso_ai/blob/main/numPy_recetas_ejemplos.ipynb\" target=\"_parent\"><img src=\"https://colab.research.google.com/assets/colab-badge.svg\" alt=\"Open In Colab\"/></a>"
      ]
    },
    {
      "cell_type": "markdown",
      "source": [
        "\n",
        "\n",
        "---\n",
        "\n",
        "\n",
        "## Ver la versión de numPy"
      ],
      "metadata": {
        "id": "2miehwP42cCi"
      }
    },
    {
      "cell_type": "code",
      "execution_count": null,
      "metadata": {
        "id": "F7OHe99dCf6H",
        "colab": {
          "base_uri": "https://localhost:8080/",
          "height": 35
        },
        "outputId": "f5ad66ae-7f02-41a1-a2ac-4691130fdd95"
      },
      "outputs": [
        {
          "output_type": "execute_result",
          "data": {
            "text/plain": [
              "'1.23.5'"
            ],
            "application/vnd.google.colaboratory.intrinsic+json": {
              "type": "string"
            }
          },
          "metadata": {},
          "execution_count": 1
        }
      ],
      "source": [
        "import numpy as np\n",
        "\n",
        "np.__version__"
      ]
    },
    {
      "cell_type": "markdown",
      "source": [
        "\n",
        "\n",
        "---\n",
        "\n",
        "\n",
        "## Crear un array numpy 10 elementos"
      ],
      "metadata": {
        "id": "5AI4BU67yBhG"
      }
    },
    {
      "cell_type": "code",
      "source": [
        "mi_array = np.arange(10)\n",
        "mi_array"
      ],
      "metadata": {
        "colab": {
          "base_uri": "https://localhost:8080/"
        },
        "id": "Y4btE_B7x17e",
        "outputId": "b09021ff-0236-4231-c992-39a387b59cd3"
      },
      "execution_count": null,
      "outputs": [
        {
          "output_type": "execute_result",
          "data": {
            "text/plain": [
              "array([0, 1, 2, 3, 4, 5, 6, 7, 8, 9])"
            ]
          },
          "metadata": {},
          "execution_count": 4
        }
      ]
    },
    {
      "cell_type": "markdown",
      "source": [
        "\n",
        "\n",
        "---\n",
        "\n",
        "\n",
        "## Crear una array con 10 elementos a partir del 100"
      ],
      "metadata": {
        "id": "WEzvAee1zLE1"
      }
    },
    {
      "cell_type": "code",
      "source": [
        "np.arange(100,110)"
      ],
      "metadata": {
        "colab": {
          "base_uri": "https://localhost:8080/"
        },
        "id": "oCb3SZpvzTHR",
        "outputId": "12a2fed8-143b-4182-85ca-b41820403010"
      },
      "execution_count": null,
      "outputs": [
        {
          "output_type": "execute_result",
          "data": {
            "text/plain": [
              "array([100, 101, 102, 103, 104, 105, 106, 107, 108, 109])"
            ]
          },
          "metadata": {},
          "execution_count": 9
        }
      ]
    },
    {
      "cell_type": "markdown",
      "source": [
        "\n",
        "\n",
        "---\n",
        "\n",
        "\n",
        "## Crear una array de ceros de tamaño 5x5"
      ],
      "metadata": {
        "id": "y_rnUrvyyNsf"
      }
    },
    {
      "cell_type": "code",
      "source": [
        "np.zeros((5,5))"
      ],
      "metadata": {
        "colab": {
          "base_uri": "https://localhost:8080/"
        },
        "id": "28BPHE5Zx7hR",
        "outputId": "f427d5f7-5240-4497-c941-aeaabe833584"
      },
      "execution_count": null,
      "outputs": [
        {
          "output_type": "execute_result",
          "data": {
            "text/plain": [
              "array([[0., 0., 0., 0., 0.],\n",
              "       [0., 0., 0., 0., 0.],\n",
              "       [0., 0., 0., 0., 0.],\n",
              "       [0., 0., 0., 0., 0.],\n",
              "       [0., 0., 0., 0., 0.]])"
            ]
          },
          "metadata": {},
          "execution_count": 6
        }
      ]
    },
    {
      "cell_type": "markdown",
      "source": [
        "\n",
        "\n",
        "---\n",
        "\n",
        "\n",
        "## Crear un array de n elementos a partir de un numero"
      ],
      "metadata": {
        "id": "7QCbi7bH11dH"
      }
    },
    {
      "cell_type": "code",
      "source": [
        "np.full(10, 20)"
      ],
      "metadata": {
        "colab": {
          "base_uri": "https://localhost:8080/"
        },
        "id": "uOe3NsAc1-Bm",
        "outputId": "f2476cb2-679b-4a72-8629-877b1a18a539"
      },
      "execution_count": null,
      "outputs": [
        {
          "output_type": "execute_result",
          "data": {
            "text/plain": [
              "array([20, 20, 20, 20, 20, 20, 20, 20, 20, 20])"
            ]
          },
          "metadata": {},
          "execution_count": 14
        }
      ]
    },
    {
      "cell_type": "markdown",
      "source": [
        "\n",
        "\n",
        "---\n",
        "\n",
        "\n",
        "## Crear un array de identidad de 3x3"
      ],
      "metadata": {
        "id": "rLsuXbgw0AuZ"
      }
    },
    {
      "cell_type": "code",
      "source": [
        "np.eye(3,3)"
      ],
      "metadata": {
        "colab": {
          "base_uri": "https://localhost:8080/"
        },
        "id": "QO4zBk5b0Hu4",
        "outputId": "3f8f0af5-6f0b-490e-9aa0-a9d7f3434742"
      },
      "execution_count": null,
      "outputs": [
        {
          "output_type": "execute_result",
          "data": {
            "text/plain": [
              "array([[1., 0., 0.],\n",
              "       [0., 1., 0.],\n",
              "       [0., 0., 1.]])"
            ]
          },
          "metadata": {},
          "execution_count": 11
        }
      ]
    },
    {
      "cell_type": "markdown",
      "source": [
        "\n",
        "\n",
        "---\n",
        "\n",
        "\n",
        "## Generar un Array de 20 Puntos entre 0 y 1"
      ],
      "metadata": {
        "id": "qZMhaJEg0VJ3"
      }
    },
    {
      "cell_type": "code",
      "source": [
        "np.linspace(0,1,20)"
      ],
      "metadata": {
        "colab": {
          "base_uri": "https://localhost:8080/"
        },
        "id": "l9T59ZU50XB5",
        "outputId": "1f532531-678f-46fe-80db-64b75f0fc0d3"
      },
      "execution_count": null,
      "outputs": [
        {
          "output_type": "execute_result",
          "data": {
            "text/plain": [
              "array([0.        , 0.05263158, 0.10526316, 0.15789474, 0.21052632,\n",
              "       0.26315789, 0.31578947, 0.36842105, 0.42105263, 0.47368421,\n",
              "       0.52631579, 0.57894737, 0.63157895, 0.68421053, 0.73684211,\n",
              "       0.78947368, 0.84210526, 0.89473684, 0.94736842, 1.        ])"
            ]
          },
          "metadata": {},
          "execution_count": 13
        }
      ]
    },
    {
      "cell_type": "markdown",
      "source": [
        "\n",
        "\n",
        "---\n",
        "## Sumar todos los elementos de un Array\n"
      ],
      "metadata": {
        "id": "K_qCIc9M28Rb"
      }
    },
    {
      "cell_type": "code",
      "source": [
        "array = np.array([10,10,10,10,10,10,10])\n",
        "np.sum(array)"
      ],
      "metadata": {
        "colab": {
          "base_uri": "https://localhost:8080/"
        },
        "id": "lxspBjI12_0R",
        "outputId": "0cfa1511-cd85-4dec-b1c7-083c0bdb124b"
      },
      "execution_count": null,
      "outputs": [
        {
          "output_type": "execute_result",
          "data": {
            "text/plain": [
              "70"
            ]
          },
          "metadata": {},
          "execution_count": 17
        }
      ]
    },
    {
      "cell_type": "markdown",
      "source": [
        "\n",
        "\n",
        "---\n",
        "\n",
        "## Restar un valor de todos los Elementos de un array"
      ],
      "metadata": {
        "id": "kFm88uxT3WvF"
      }
    },
    {
      "cell_type": "code",
      "source": [
        "array = np.arange(10)\n",
        "np.subtract(array, 5)"
      ],
      "metadata": {
        "colab": {
          "base_uri": "https://localhost:8080/"
        },
        "id": "Cg59S6BZ3VJe",
        "outputId": "dd50e04f-678a-4a85-d9f3-61acccbc650c"
      },
      "execution_count": null,
      "outputs": [
        {
          "output_type": "execute_result",
          "data": {
            "text/plain": [
              "array([-5, -4, -3, -2, -1,  0,  1,  2,  3,  4])"
            ]
          },
          "metadata": {},
          "execution_count": 19
        }
      ]
    },
    {
      "cell_type": "markdown",
      "source": [
        "\n",
        "\n",
        "---\n",
        "\n",
        "## Usando reduce vs sum"
      ],
      "metadata": {
        "id": "216qeDZh4a1D"
      }
    },
    {
      "cell_type": "code",
      "source": [
        "array = np.arange(100)\n",
        "str(np.add.reduce(array)) + ' vs ' + str(np.sum(array))"
      ],
      "metadata": {
        "colab": {
          "base_uri": "https://localhost:8080/",
          "height": 35
        },
        "id": "ioIXxCSR4e3K",
        "outputId": "7c5bbd07-cb16-4d98-ebda-dbff00ccc01e"
      },
      "execution_count": null,
      "outputs": [
        {
          "output_type": "execute_result",
          "data": {
            "text/plain": [
              "'4950 vs 4950'"
            ],
            "application/vnd.google.colaboratory.intrinsic+json": {
              "type": "string"
            }
          },
          "metadata": {},
          "execution_count": 5
        }
      ]
    },
    {
      "cell_type": "markdown",
      "source": [
        "\n",
        "\n",
        "---\n",
        "\n",
        "## Agrupar los elementos de un array de 3 en tres"
      ],
      "metadata": {
        "id": "fokSoouiAqj9"
      }
    },
    {
      "cell_type": "code",
      "source": [
        "array = np.array([34,5,2,6,5,7,45,3,6,7,454,5])\n",
        "array = np.reshape(array, (3, (len(array)//3))) # usamos // para que el resultado sea entero y no float\n",
        "print(array)"
      ],
      "metadata": {
        "colab": {
          "base_uri": "https://localhost:8080/"
        },
        "id": "iA6Ukg_iAwvT",
        "outputId": "6bbc478e-e782-4b53-e386-09d4fdccfb60"
      },
      "execution_count": null,
      "outputs": [
        {
          "output_type": "stream",
          "name": "stdout",
          "text": [
            "[[ 34   5   2   6]\n",
            " [  5   7  45   3]\n",
            " [  6   7 454   5]]\n"
          ]
        }
      ]
    },
    {
      "cell_type": "markdown",
      "source": [
        "\n",
        "\n",
        "---\n",
        "\n",
        "## Transponer un array"
      ],
      "metadata": {
        "id": "yhfNDmTQA-EY"
      }
    },
    {
      "cell_type": "code",
      "source": [
        "array = np.array([34,5,2,6,5,7,45,3,6,7,454,5])\n",
        "array = np.reshape(array, (3, (len(array)//3))) # usamos // para que el resultaod sea entero y no float\n",
        "# pasado de 3 grupos de 4 a 4 grupos de 3\n",
        "array = np.transpose(array)\n",
        "print(array)"
      ],
      "metadata": {
        "colab": {
          "base_uri": "https://localhost:8080/"
        },
        "id": "FqdQ38OSBCaW",
        "outputId": "422cbf42-20e8-4495-9b47-878af63d9120"
      },
      "execution_count": null,
      "outputs": [
        {
          "output_type": "stream",
          "name": "stdout",
          "text": [
            "[[ 34   5   6]\n",
            " [  5   7   7]\n",
            " [  2  45 454]\n",
            " [  6   3   5]]\n"
          ]
        }
      ]
    },
    {
      "cell_type": "markdown",
      "source": [
        "\n",
        "\n",
        "---\n",
        "## Aplanar un array\n"
      ],
      "metadata": {
        "id": "bFLT3VCdBa2S"
      }
    },
    {
      "cell_type": "code",
      "source": [
        "array = np.array([34,5,2,6,5,7,45,3,6,7,454,5])\n",
        "array = np.reshape(array, (3, (len(array)//3))) # usamos // para que el resultaod sea entero y no float\n",
        "array.flatten()"
      ],
      "metadata": {
        "colab": {
          "base_uri": "https://localhost:8080/"
        },
        "id": "5JedC_pHBf0x",
        "outputId": "aaea83b5-91a0-4829-a0bf-f69b1defd2eb"
      },
      "execution_count": null,
      "outputs": [
        {
          "output_type": "execute_result",
          "data": {
            "text/plain": [
              "array([ 34,   5,   2,   6,   5,   7,  45,   3,   6,   7, 454,   5])"
            ]
          },
          "metadata": {},
          "execution_count": 69
        }
      ]
    },
    {
      "cell_type": "markdown",
      "source": [
        "\n",
        "\n",
        "---\n",
        "## Reduce con una función personalizada\n"
      ],
      "metadata": {
        "id": "AAGI1Igg63rV"
      }
    },
    {
      "cell_type": "code",
      "source": [
        "array = np.array([34,5,2,6,5,7,45,3,6,7,454,5])\n",
        "\n",
        "def operacion(x):\n",
        "  return np.log(x) - np.sqrt(x)\n",
        "operacion_vectorizada = np.vectorize(operacion)\n",
        "\n",
        "array = operacion_vectorizada(array)\n"
      ],
      "metadata": {
        "colab": {
          "base_uri": "https://localhost:8080/"
        },
        "id": "qi3ga0lz7mOV",
        "outputId": "939be78f-cd86-4a09-d843-e641890ad532"
      },
      "execution_count": null,
      "outputs": [
        {
          "output_type": "execute_result",
          "data": {
            "text/plain": [
              "array([ -2.30459137,  -0.62663007,  -0.72106638,  -0.65773027,\n",
              "        -0.62663007,  -0.69984116,  -2.90154144,  -0.63343852,\n",
              "        -0.65773027,  -0.69984116, -15.18917855,  -0.62663007])"
            ]
          },
          "metadata": {},
          "execution_count": 68
        }
      ]
    },
    {
      "cell_type": "markdown",
      "source": [
        "\n",
        "\n",
        "---\n",
        "\n",
        "## Concatenar arrays (Añadir un elemento)\n"
      ],
      "metadata": {
        "id": "mnOAXBeHcUo2"
      }
    },
    {
      "cell_type": "code",
      "source": [
        "a = np.array([1, 2, 3])\n",
        "np.concatenate([a, [4]])"
      ],
      "metadata": {
        "colab": {
          "base_uri": "https://localhost:8080/"
        },
        "id": "As0bsbm9cbAK",
        "outputId": "6b67a718-0fd4-4591-ae36-82f5c16fd5e5"
      },
      "execution_count": null,
      "outputs": [
        {
          "output_type": "execute_result",
          "data": {
            "text/plain": [
              "array([1, 2, 3, 4])"
            ]
          },
          "metadata": {},
          "execution_count": 78
        }
      ]
    },
    {
      "cell_type": "markdown",
      "source": [
        "\n",
        "\n",
        "---\n",
        "\n",
        "## Concatenar arrays (Multidimensionales)"
      ],
      "metadata": {
        "id": "lH11tCy4bdgN"
      }
    },
    {
      "cell_type": "code",
      "source": [
        "a = np.arange(4).reshape(2, 2)\n",
        "print(a)\n",
        "b = np.arange(10, 14).reshape(2, 2)\n",
        "print(b)\n",
        "np.concatenate([a, b], axis=1)"
      ],
      "metadata": {
        "colab": {
          "base_uri": "https://localhost:8080/"
        },
        "id": "p-YukWdsbjgr",
        "outputId": "5bcac23e-1ac2-4e7b-f6f4-d636517195b4"
      },
      "execution_count": null,
      "outputs": [
        {
          "output_type": "stream",
          "name": "stdout",
          "text": [
            "[[0 1]\n",
            " [2 3]]\n",
            "[[10 11]\n",
            " [12 13]]\n"
          ]
        },
        {
          "output_type": "execute_result",
          "data": {
            "text/plain": [
              "array([[ 0,  1, 10, 11],\n",
              "       [ 2,  3, 12, 13]])"
            ]
          },
          "metadata": {},
          "execution_count": 77
        }
      ]
    }
  ]
}