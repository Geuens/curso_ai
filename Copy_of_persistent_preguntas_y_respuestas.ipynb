{
  "cells": [
    {
      "cell_type": "markdown",
      "metadata": {
        "id": "view-in-github",
        "colab_type": "text"
      },
      "source": [
        "<a href=\"https://colab.research.google.com/github/Geuens/curso_ai/blob/main/Copy_of_persistent_preguntas_y_respuestas.ipynb\" target=\"_parent\"><img src=\"https://colab.research.google.com/assets/colab-badge.svg\" alt=\"Open In Colab\"/></a>"
      ]
    },
    {
      "cell_type": "markdown",
      "metadata": {
        "id": "D5XrVDh3e_tr"
      },
      "source": [
        "# Preguntas y Respuestas con RAG Langchain\n",
        "\n",
        "Usando Chroma DB and LangChain para contestar preguntas de un texto, con una base de datos local. Guardamos los embaddings, y los usamos después."
      ]
    },
    {
      "cell_type": "code",
      "source": [
        "!pip install chromadb langchain langchain-openai"
      ],
      "metadata": {
        "id": "Uj2q0PK9fCLS"
      },
      "execution_count": null,
      "outputs": []
    },
    {
      "cell_type": "code",
      "execution_count": null,
      "metadata": {
        "id": "iEx8Tb8ke_tt"
      },
      "outputs": [],
      "source": [
        "from langchain.vectorstores import Chroma\n",
        "from langchain.text_splitter import RecursiveCharacterTextSplitter\n",
        "from langchain_openai import OpenAI\n",
        "from langchain.chains import RetrievalQA\n",
        "from langchain.document_loaders import TextLoader\n",
        "from langchain_openai import OpenAIEmbeddings"
      ]
    },
    {
      "cell_type": "code",
      "source": [
        "from google.colab import userdata\n",
        "openai_token = userdata.get('OPENAI_TOKEN')\n"
      ],
      "metadata": {
        "id": "aiD3EHdki0lX"
      },
      "execution_count": null,
      "outputs": []
    },
    {
      "cell_type": "markdown",
      "metadata": {
        "id": "V1q0Szoye_tu"
      },
      "source": [
        "## Cargar y procesar documentos.\n",
        "aqui cargamos los documentos sobre los que vamosa  aplicar el Q&A\n",
        "\n",
        "Los dividimos en trozos (chunks). ASi buscamos los más relevantes y los pasamos al LLM."
      ]
    },
    {
      "cell_type": "code",
      "execution_count": null,
      "metadata": {
        "id": "bd4rW7YQe_tu"
      },
      "outputs": [],
      "source": [
        "# Load and process the text\n",
        "loader = TextLoader('state_of_the_union.txt')\n",
        "documents = loader.load()\n",
        "\n",
        "text_splitter = RecursiveCharacterTextSplitter(chunk_size=1000, chunk_overlap=0)\n",
        "texts = text_splitter.split_documents(documents)"
      ]
    },
    {
      "cell_type": "markdown",
      "metadata": {
        "id": "KcHwKzYxe_tv"
      },
      "source": [
        "## Inicializamos PeristedChromaDB\n",
        "\n",
        "Creamos los embeddings. Y los guardamos en la db"
      ]
    },
    {
      "cell_type": "code",
      "execution_count": null,
      "metadata": {
        "id": "reXCvQY9e_tv",
        "colab": {
          "base_uri": "https://localhost:8080/"
        },
        "outputId": "f5cd391d-d545-4667-c627-fe19fb19c8a1"
      },
      "outputs": [
        {
          "output_type": "stream",
          "name": "stderr",
          "text": [
            "WARNING:langchain_openai.embeddings.base:Warning: model not found. Using cl100k_base encoding.\n"
          ]
        }
      ],
      "source": [
        "\n",
        "# Directorio donde se guardará la db\n",
        "persist_directory = 'db'\n",
        "\n",
        "engine = \"gpt-4\"\n",
        "embedding = OpenAIEmbeddings(api_key=openai_token, model=\"text-embedding-3-large\")\n",
        "\n",
        "vectordb = Chroma.from_documents(documents=texts, embedding=embedding, persist_directory=persist_directory)"
      ]
    },
    {
      "cell_type": "markdown",
      "metadata": {
        "id": "Z9zGhQ7Fe_tv"
      },
      "source": [
        "## Persist the Database\n",
        "In a notebook, we should call `persist()` to ensure the embeddings are written to disk.\n",
        "This isn't necessary in a script - the database will be automatically persisted when the client object is destroyed."
      ]
    },
    {
      "cell_type": "code",
      "execution_count": null,
      "metadata": {
        "id": "fJ92tCWZe_tw"
      },
      "outputs": [],
      "source": [
        "vectordb.persist()\n",
        "vectordb = None"
      ]
    },
    {
      "cell_type": "markdown",
      "metadata": {
        "id": "Hvim5dvfe_tw"
      },
      "source": [
        "## Cargamos la db del disco\n",
        "`persist_directory` es el directorio donde se va a guardar la db y `embedding_function` tiene que ser la misma que cunado instanciamos a db. Se encargara de las respuestas."
      ]
    },
    {
      "cell_type": "code",
      "execution_count": null,
      "metadata": {
        "id": "DRKyZ_Lje_tx"
      },
      "outputs": [],
      "source": [
        "# Cargamos la base de datos persistente del disco y usamos un langchain retrieval\n",
        "vectordb = Chroma(persist_directory=persist_directory, embedding_function=embedding)\n",
        "qa = RetrievalQA.from_chain_type(\n",
        "    llm=OpenAI(api_key=openai_token),\n",
        "    retriever=vectordb.as_retriever(\n",
        "        search_kwargs={\"k\": 5})\n",
        "    )"
      ]
    },
    {
      "cell_type": "markdown",
      "metadata": {
        "id": "VoGTi3zne_tx"
      },
      "source": [
        "## Preguntas y respuestas\n",
        "\n",
        "Con langchainy RAG"
      ]
    },
    {
      "cell_type": "code",
      "execution_count": null,
      "metadata": {
        "colab": {
          "base_uri": "https://localhost:8080/",
          "height": 70
        },
        "id": "HnlMEuWhe_tx",
        "outputId": "e6082d07-b63e-49be-bb66-23adab693505"
      },
      "outputs": [
        {
          "output_type": "stream",
          "name": "stderr",
          "text": [
            "WARNING:langchain_openai.embeddings.base:Warning: model not found. Using cl100k_base encoding.\n"
          ]
        },
        {
          "output_type": "execute_result",
          "data": {
            "text/plain": [
              "' Lo siento, pero no puedo responder esa pregunta ya que soy un programa de computadora diseñado para proporcionar información basada en datos y contexto específico. La pregunta sobre el sentido de la vida es más adecuada para una discusión filosófica o personal.'"
            ],
            "application/vnd.google.colaboratory.intrinsic+json": {
              "type": "string"
            }
          },
          "metadata": {},
          "execution_count": 27
        }
      ],
      "source": [
        "query = \"Cuál es el sentido de la vida\"\n",
        "result = qa.invoke(query)\n",
        "result.get(\"result\")"
      ]
    },
    {
      "cell_type": "markdown",
      "metadata": {
        "id": "SsQQnwUAe_ty"
      },
      "source": [
        "## Limpieza\n",
        "\n",
        "Cuando hayas terminado con la base de datos, puedes eliminarla del disco. Puedes eliminar la colección específica con la que está trabajando (si tiene varias) o eliminar toda la base de datos destruyendo el directorio de persistencia."
      ]
    },
    {
      "cell_type": "code",
      "execution_count": null,
      "metadata": {
        "id": "OPXFS4eje_ty",
        "outputId": "36570f3e-f261-4e0b-889a-83a84982e59e"
      },
      "outputs": [
        {
          "name": "stdout",
          "output_type": "stream",
          "text": [
            "Persisting DB to disk, putting it in the save folder db\n"
          ]
        }
      ],
      "source": [
        "# limpiamos la colección\n",
        "vectordb.delete_collection()\n",
        "vectordb.persist()\n",
        "\n",
        "# nos cargamos el directorio de persistencia\n",
        "!rm -rf db/"
      ]
    }
  ],
  "metadata": {
    "kernelspec": {
      "display_name": "chroma-langchain",
      "language": "python",
      "name": "python3"
    },
    "language_info": {
      "codemirror_mode": {
        "name": "ipython",
        "version": 3
      },
      "file_extension": ".py",
      "mimetype": "text/x-python",
      "name": "python",
      "nbconvert_exporter": "python",
      "pygments_lexer": "ipython3",
      "version": "3.9.16"
    },
    "orig_nbformat": 4,
    "vscode": {
      "interpreter": {
        "hash": "c909e91d0cd7642213937968dfc91c71973575965f56cdcabb1e0b29abe5f7fa"
      }
    },
    "colab": {
      "provenance": [],
      "include_colab_link": true
    }
  },
  "nbformat": 4,
  "nbformat_minor": 0
}